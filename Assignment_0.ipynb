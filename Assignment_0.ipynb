{
 "cells": [
  {
   "cell_type": "markdown",
   "metadata": {
    "id": "BckUOSXHptwv"
   },
   "source": [
    "## ECBM E4040 Neural Networks and Deep Learning\n",
    "### Columbia University, Fall 2025"
   ]
  },
  {
   "cell_type": "markdown",
   "metadata": {
    "id": "OTCbBGu2ptwz"
   },
   "source": [
    "# ECBM E4040 - Assignment 0"
   ]
  },
  {
   "cell_type": "markdown",
   "metadata": {
    "id": "erLmkACPptw4"
   },
   "source": [
    "## Welcome to ECBM E4040 Neural Networks & Deep Learning\n",
    "\n",
    "This course teaches theory, concepts, modeling and programming techniques. The assignments are focused on practical coding for creating, testing and running deep learning models.\n",
    "\n",
    "The **Assignment 0** introduces our programming environment and tools, and basic TensorFlow operations.\n",
    "\n",
    "The assignment consists of the following components:\n",
    "* Programming environment setup - Google Compute Engine/local machine, Python, TensorFlow.\n",
    "* Using Jupyter Notebook\n",
    "* TensorFlow basics\n",
    "* A demo of a program written in TensorFlow\n",
    "\n",
    "<p style='color:red'>Cells marked with \"<strong>TODO</strong>\" need to be completed by students, as a part of the assignment.</p>\n",
    "\n",
    "Please consult TAs or post your problems/issues on Ed Discussion."
   ]
  },
  {
   "cell_type": "markdown",
   "metadata": {
    "id": "H9x7wOPtptw6"
   },
   "source": [
    "## Part 1 - Setting Up the Programming Environment\n",
    "\n",
    "For this course, we use [**Python**](https://www.python.org) as the programming language, and [**TensorFlow**](https://www.tensorflow.org) as the deep learning framework.\n",
    "\n",
    "Our course website (https://ecbme4040.github.io/) provides a number of tutorials:\n",
    "* Local Environment Setup\n",
    "* Google Compute Engine (GCE) Setup on the Google Cloud Platform (GCP)\n",
    "* Python Tutorial\n",
    "* TensorFlow Tutorial\n",
    "* Linux Tutorial\n",
    "* Git Commands\n",
    "* Google Colab"
   ]
  },
  {
   "cell_type": "markdown",
   "metadata": {
    "id": "vYs3W8_vCE0W"
   },
   "source": [
    "<p style='color:red'><strong>TODO:</strong></p>\n",
    "\n",
    "This list shows an overview of what students need to do to complete the assignment. Later cells in this Jupyter notebook describe the details of the operations that need to be executed as TODO items.\n",
    "\n",
    "* Create an account on Github, and familiarize yourself both with git operations and with Github.\n",
    "\n",
    "    * Github is a __version control__ system, which will be helpful in your learning journey.\n",
    "\n",
    "    * You can get familiar with git & github by following [guide](https://github.com/git-guides).\n",
    "\n",
    "* Execute `Assignment0.ipynb`.\n",
    "\n",
    "  Three platforms are mainly recommended for __executing code__ in this course, which is required for the Assignments and the Final Project.\n",
    "\n",
    "    1. __Google Cloud__: Primary platform for all assignments. Requires credits\n",
    "    \n",
    "        * You can initially use the $300 that every new account gets from Google Cloud.\n",
    "\n",
    "        * After the add/drop period you will be given codes/coupons from the instructors.  \n",
    "\n",
    "    2. __Google Colab__: Easy setup, free limited compute. Use before codes/coupons are distributed.\n",
    "\n",
    "    3. __Personal Computer__: Optional. Useful for quick & free debugging locally; final runs should be on Google Cloud.\n",
    "    \n",
    "  Please use the three platforms flexibly to run code, but __submit the final version from Google Cloud__, you will be required to submit the screenshots of your __Google Cloud VM Instance__. Requirements on screenshots will be given in the `README.md` of `Assignment0.ipynb` after add/drop.\n",
    "        \n",
    "  For example, for `Assignment0.ipynb`:\n",
    "\n",
    "    * During add/drop: run it in **Colab** (fetch from GitHub or Courseworks, upload to Colab, execute, and save your solutions).  \n",
    "\n",
    "    * After add/drop: set up a **Google Cloud VM** ([GCE tutorial](https://ecbme4040.github.io/2024_fall/EnvSetup/gcp.html)), re-run the notebook, save it, and take required screenshots (VM dashboard + notebook in VM). Submit the modified notebook (with completed TODOs) via GitHub, along with screenshots as proof of cloud execution.\n",
    "\n",
    "* **(Optional)** Knowledge of Python, Linux and Git operations is needed for this course. Doing the tutorials is optional, depending on your prior knowledge of these topics.\n",
    "\n",
    "* **(Optional)** Tutorials on TensorFlow are extensive. As you progress with this course, they are an excellent complement to our class."
   ]
  },
  {
   "cell_type": "markdown",
   "metadata": {
    "id": "h0-p84qHptw8"
   },
   "source": [
    "## Part 2 - How to Use Jupyter Notebook - Basics\n",
    "\n",
    "Jupyter Notebook is an interactive Python programming interface. Jupyter Notebook files have a postfix `.ipynb`, and each file is made up of several blocks of code which are called **cells**. Each cell can be configured as a **coding cell** or a **markdown text cell**. Google colab is the easiest installation-free platform to run and familiarize oneself with Jupyter Notebook operations.\n",
    "\n",
    "Basic instructions:\n",
    "* The menu bars are located on the top of a notebook.\n",
    "* To execute a cell, select it, and press `ctrl + Enter`. (You may also try `shift + Enter` and `alt + Enter` to see the difference).\n",
    "* To switch between code and Markdown, select a cell, and select the mode you want in the dropdown menu in the menu bar.\n",
    "\n",
    "A full guide to Jupyter Notebook can be accessed in [Official Document](https://jupyter-notebook.readthedocs.io/en/latest/)."
   ]
  },
  {
   "cell_type": "code",
   "execution_count": 1,
   "metadata": {
    "colab": {
     "base_uri": "https://localhost:8080/"
    },
    "id": "ih8-yaIcptw-",
    "outputId": "27680a64-08e0-42ca-e387-75aded4391b3"
   },
   "outputs": [
    {
     "name": "stdout",
     "output_type": "stream",
     "text": [
      "Hello Jupyter!\n"
     ]
    }
   ],
   "source": [
    "# To test that you understand how to use a coding cell, make this cell output a string 'Hello Jupyter!'.\n",
    "# We've written the code, all you need to do is to execute it.\n",
    "print('Hello Jupyter!')"
   ]
  },
  {
   "cell_type": "markdown",
   "metadata": {
    "id": "HHIrOHgHptxN"
   },
   "source": [
    "## Part 3 - TensorFlow Basics\n",
    "\n",
    "TensorFlow is one of the most popular deep learning frameworks. Originally created by Google, it has received a lot of community support. TensorFlow versions before 2.0 (until summer 2019) contained a number of detailed functions for construction of deep learning (neural network) models, and relied on a two-step process for model creation and execution.\n",
    "\n",
    "TensorFlow versions 2.0 and beyond focus on simplicity and ease of use, with updates like eager execution, intuitive Keras-based higher-level APIs, and flexible model building on any platform.\n",
    "\n",
    "In this part, we look at some basic TensorFlow concepts and operations."
   ]
  },
  {
   "cell_type": "code",
   "execution_count": 2,
   "metadata": {
    "colab": {
     "base_uri": "https://localhost:8080/"
    },
    "id": "ZA_ETQgWSw0N",
    "outputId": "6bb58ffe-c06c-41d6-b502-a5a591019c3b"
   },
   "outputs": [
    {
     "name": "stdout",
     "output_type": "stream",
     "text": [
      "matplotlib installed\n"
     ]
    }
   ],
   "source": [
    "# This cell installs matplotlib tool, directly from Jupyter Notebook.\n",
    "# Run this cell just once after removing the '#' sign before the command.\n",
    "\n",
    "#!pip install --upgrade matplotlib\n",
    "print(\"matplotlib installed\")"
   ]
  },
  {
   "cell_type": "code",
   "execution_count": 3,
   "metadata": {
    "colab": {
     "base_uri": "https://localhost:8080/"
    },
    "id": "Zfw8_AOlptxP",
    "outputId": "fc6b21ab-a933-4a3c-9218-48ff310c63f1"
   },
   "outputs": [
    {
     "name": "stdout",
     "output_type": "stream",
     "text": [
      "TensorFlow Version = 2.4.0\n"
     ]
    }
   ],
   "source": [
    "# Activating TensorFlow in Jupyter Notebook\n",
    "\n",
    "# Disable some warnings, to simplify the output when running the cells\n",
    "import warnings\n",
    "warnings.simplefilter(action='ignore', category=FutureWarning)\n",
    "\n",
    "# Import the TensorFlow module\n",
    "import tensorflow as tf\n",
    "\n",
    "print('TensorFlow Version =', tf.__version__)\n",
    "\n",
    "# The following modules will be used in later parts of the assignment.\n",
    "# Make sure that you install the latest version of numpy and matplotlib (inside your conda workspace)\n",
    "# Alternatively, inside your virtual environment, use `conda install numpy`\n",
    "# and \"conda install matplotlib\" and restart the jupyter notebook.\n",
    "import numpy as np\n",
    "from matplotlib import pyplot as plt"
   ]
  },
  {
   "cell_type": "markdown",
   "metadata": {
    "id": "xqIRW2wcptxY"
   },
   "source": [
    "#### 1. Use of String Constant with TensorFlow"
   ]
  },
  {
   "cell_type": "markdown",
   "metadata": {
    "id": "FxB4Oqtvptxa"
   },
   "source": [
    "In TensorFlow 2.0 the concept of sessions (as in versions before 2.0) has been deprecated. Now, variables are accessible instantly (as compared to after `sess.run`), making this flow \"more pythonic\" in style."
   ]
  },
  {
   "cell_type": "code",
   "execution_count": 4,
   "metadata": {
    "colab": {
     "base_uri": "https://localhost:8080/"
    },
    "id": "sGS6SiZJptxc",
    "outputId": "34ac8b3f-1bcb-46ee-e816-10792e8d5a26"
   },
   "outputs": [
    {
     "name": "stdout",
     "output_type": "stream",
     "text": [
      "Hello TensorFlow!\n"
     ]
    }
   ],
   "source": [
    "# Example\n",
    "# Define a string constant\n",
    "string = tf.constant('Hello TensorFlow!')\n",
    "tf.print(string)"
   ]
  },
  {
   "cell_type": "markdown",
   "metadata": {
    "id": "IE5Yd4Oeptxl"
   },
   "source": [
    "<p style='color:red'><strong>TODO:</strong></p>\n",
    "\n",
    "Follow the example above and use TensorFlow to output the string \"YOUR_NAME: YOUR_UNI\"."
   ]
  },
  {
   "cell_type": "markdown",
   "metadata": {
    "id": "YlQaSaBwSw0e"
   },
   "source": [
    "<p style='color:red'><strong>SOLUTION (enter a new cell below):</strong></p>"
   ]
  },
  {
   "cell_type": "code",
   "execution_count": 5,
   "metadata": {
    "colab": {
     "base_uri": "https://localhost:8080/"
    },
    "id": "pFsCn1rRNMju",
    "outputId": "d2730ecd-c01d-4a09-8d3e-2812431f70a8"
   },
   "outputs": [
    {
     "name": "stdout",
     "output_type": "stream",
     "text": [
      "Yi Zhang:yz5104\n"
     ]
    }
   ],
   "source": [
    "string = tf.constant('Yi Zhang:yz5104')\n",
    "tf.print(string)"
   ]
  },
  {
   "cell_type": "markdown",
   "metadata": {
    "id": "LSBsfBIQptx3"
   },
   "source": [
    "#### 2. Basic Maths in TensorFlow"
   ]
  },
  {
   "cell_type": "code",
   "execution_count": 6,
   "metadata": {
    "colab": {
     "base_uri": "https://localhost:8080/"
    },
    "id": "Gy6l7PvLptx4",
    "outputId": "148775b4-8155-4d79-8a9b-3716fe35eb63"
   },
   "outputs": [
    {
     "name": "stdout",
     "output_type": "stream",
     "text": [
      "a = 10\n",
      "b = 20\n",
      "a + b = 30\n",
      "a - b = -10\n"
     ]
    }
   ],
   "source": [
    "# Example\n",
    "\n",
    "# Define 2 constant nodes. It is a good habit to name your nodes.\n",
    "# The name of the nodes will appear in the TensorBoard graph.\n",
    "a = tf.constant(10, dtype=tf.float32, name='a')\n",
    "b = tf.constant(20, dtype=tf.float32, name='b')\n",
    "\n",
    "# Addition and subtraction\n",
    "add = tf.add(a, b, name='add') # same as a+b\n",
    "sub = tf.subtract(a, b, name='sub') # same as a-b\n",
    "\n",
    "# There is no need for the session to run these operations (as in TensorFlow 1.*)\n",
    "tf.print(\"a =\", a)\n",
    "tf.print(\"b =\", b)\n",
    "tf.print(\"a + b =\", add)\n",
    "tf.print(\"a - b =\", sub)"
   ]
  },
  {
   "cell_type": "markdown",
   "metadata": {
    "id": "-BKpajYGptx-"
   },
   "source": [
    "<p style='color:red'><strong>TODO:</strong></p>\n",
    "\n",
    "Visit https://www.tensorflow.org/versions/r2.4/api_docs/python/tf/math, find proper operations to calculate and print:\n",
    "- `a*b` (multiplication)\n",
    "- `a/b` (division)\n",
    "- `a^b` (power)\n",
    "- `log(a)` (natural logarithm)\n",
    "\n",
    "***Note:*** `a` and `b` are defined in the previous cell, you should use them directly."
   ]
  },
  {
   "cell_type": "markdown",
   "metadata": {
    "id": "07VHHDK8Sw0n"
   },
   "source": [
    "<p style='color:red'><strong>SOLUTION (enter a new cell below):</strong></p>"
   ]
  },
  {
   "cell_type": "code",
   "execution_count": 7,
   "metadata": {
    "colab": {
     "base_uri": "https://localhost:8080/"
    },
    "id": "czX2Jp1UNk5p",
    "outputId": "26eedff8-5e6c-48a9-8eb0-b4034611992d"
   },
   "outputs": [
    {
     "name": "stdout",
     "output_type": "stream",
     "text": [
      "a*b = 200\n",
      "a/b = 0.5\n",
      "a^b = 9.99999932e+19\n",
      "log(a) = 2.30258512\n"
     ]
    }
   ],
   "source": [
    "multiply = tf.multiply(a, b, name=\"multiply\")\n",
    "division = tf.divide(a, b, name=\"division\")\n",
    "power = tf.pow(a, b, name=\"power\")\n",
    "log_a = tf.math.log(a, name='log(a)')\n",
    "\n",
    "tf.print('a*b =', multiply)\n",
    "tf.print('a/b =', division)\n",
    "tf.print('a^b =', power)\n",
    "tf.print('log(a) =', log_a)"
   ]
  },
  {
   "cell_type": "markdown",
   "metadata": {
    "id": "AUY_auy5ptyF"
   },
   "source": [
    "#### 3. Constant Tensor, Sequences and Random Numbers in TensorFlow"
   ]
  },
  {
   "cell_type": "code",
   "execution_count": 8,
   "metadata": {
    "colab": {
     "base_uri": "https://localhost:8080/"
    },
    "id": "eJH7b1ZLptyG",
    "outputId": "e54d60ae-01aa-4ec5-ac94-340a9979dc8f"
   },
   "outputs": [
    {
     "name": "stdout",
     "output_type": "stream",
     "text": [
      "Zero array:\n",
      " [[0 0 0]\n",
      " [0 0 0]] \n",
      "\n",
      "One array:\n",
      " [[1 1 1]\n",
      " [1 1 1]] \n",
      "\n",
      "Zero-like:\n",
      " [[0 0 0]\n",
      " [0 0 0]] \n",
      "\n",
      "One-like:\n",
      " [[1 1 1]\n",
      " [1 1 1]] \n",
      "\n",
      "Linear sequence:\n",
      " [0 1.25 2.5 3.75 5] \n",
      "\n",
      "Range:\n",
      " [0 1 2 ... 4 5 6] \n",
      "\n",
      "Random normal:\n",
      " [3.91004539 1.09683192 2.86903739 3.23870444 3.95071435] \n",
      "\n"
     ]
    }
   ],
   "source": [
    "# In TensorFlow, a tensor is an n-dimensional array.\n",
    "# 0-d tensor is a scalar. 1-d tensor is a vector, and so on.\n",
    "\n",
    "# We can use TF functions to create all-zero and all-one tensors.\n",
    "zero_array = tf.zeros(shape=[2,3], dtype=tf.float32, name='zero_array')\n",
    "one_array = tf.ones(shape=[2,3], dtype=tf.float32, name='one_array')\n",
    "\n",
    "# Or use a template to infer the shape.\n",
    "template = tf.constant([[1,2,3],[4,5,6]], dtype=tf.float32, name='template') # Has [2,3] shape\n",
    "zero_like = tf.zeros_like(template, name='zero_like')\n",
    "one_like = tf.ones_like(template, name='one_like')\n",
    "\n",
    "# Some sequence generating functions\n",
    "lin_seq = tf.linspace(start=0.0, stop=5.0, num=5, name='lin_seq')\n",
    "lin_range = tf.range(start=0, limit=7, delta=1, name='lin_range')\n",
    "\n",
    "# A random number function\n",
    "norm = tf.random.normal(shape=[5], mean=3, stddev=2.0)\n",
    "\n",
    "# Printing out\n",
    "tf.print('Zero array:\\n', zero_array, '\\n')\n",
    "tf.print('One array:\\n', one_array, '\\n')\n",
    "tf.print('Zero-like:\\n', zero_like, '\\n')\n",
    "tf.print('One-like:\\n', one_like, '\\n')\n",
    "tf.print('Linear sequence:\\n', lin_seq, '\\n')\n",
    "tf.print('Range:\\n', lin_range, '\\n')\n",
    "tf.print('Random normal:\\n', norm, '\\n')"
   ]
  },
  {
   "cell_type": "markdown",
   "metadata": {
    "id": "kzQd8aDBptyJ"
   },
   "source": [
    "<p style='color:red'><strong>TODO:</strong></p>\n",
    "\n",
    "1. Generate a $3\\times 3$ matrix filled with number `8`.\n",
    "2. Generate a sequence starting from `7.0` to `-6.0` (left inclusive), with step size of `-1.0`.\n",
    "3. Generate another $3\\times 3$ matrix with normal distribution, choose any mean and stddev you like."
   ]
  },
  {
   "cell_type": "markdown",
   "metadata": {
    "id": "drGeb7roSw0u"
   },
   "source": [
    "<p style='color:red'><strong>SOLUTION (enter a new cell below):</strong></p>"
   ]
  },
  {
   "cell_type": "code",
   "execution_count": 9,
   "metadata": {
    "colab": {
     "base_uri": "https://localhost:8080/"
    },
    "id": "pOgNYmVWPkiX",
    "outputId": "af7eb4a3-9a7e-47d3-f4fb-e6c47d4d0331"
   },
   "outputs": [
    {
     "name": "stdout",
     "output_type": "stream",
     "text": [
      "Eight array:\n",
      " [[8 8 8]\n",
      " [8 8 8]\n",
      " [8 8 8]] \n",
      "\n",
      "Range [7.0,-0.6):\n",
      " [7 6 5 ... -3 -4 -5] \n",
      "\n",
      "3x3 Random normal:\n",
      " [[5.31753683 6.24797821 2.96731472]\n",
      " [0.407776594 3.4354372 2.95704031]\n",
      " [3.44024777 4.63529444 2.44819784]] \n",
      "\n"
     ]
    }
   ],
   "source": [
    "# 1\n",
    "eight_array = 8* tf.ones(shape=[3,3], dtype=tf.float32, name='eight_array')\n",
    "\n",
    "# 2\n",
    "lin_range = tf.range(start=7.0, limit=-6.0, delta=-1.0, name='lin_range')\n",
    "\n",
    "# 3\n",
    "norm_3x3 = tf.random.normal(shape=[3,3], mean=3.3, stddev=1.3)\n",
    "\n",
    "# Results\n",
    "tf.print('Eight array:\\n', eight_array, '\\n')\n",
    "tf.print('Range [7.0,-0.6):\\n', lin_range, '\\n')\n",
    "tf.print('3x3 Random normal:\\n', norm_3x3, '\\n')"
   ]
  },
  {
   "cell_type": "markdown",
   "metadata": {
    "id": "ap_VdFtBptyM"
   },
   "source": [
    "#### 4. Variables in TensorFlow"
   ]
  },
  {
   "cell_type": "code",
   "execution_count": 10,
   "metadata": {
    "colab": {
     "base_uri": "https://localhost:8080/"
    },
    "id": "1tCS_YQIptyN",
    "outputId": "908e3dfa-3d04-44a9-9bec-972f988b68da"
   },
   "outputs": [
    {
     "name": "stdout",
     "output_type": "stream",
     "text": [
      "Initial value: [2 3]\n",
      "Assigned value: [4 5]\n",
      "Add: [5 6]\n"
     ]
    }
   ],
   "source": [
    "# The values of constants (previously described) can not be changed.\n",
    "# For TensorFlow variables, their values can be updated during the training of a network.\n",
    "\n",
    "initial_value = tf.Variable([2,3], dtype=tf.float32) # You need to give an initial value to the variable.\n",
    "tf.print(\"Initial value:\", initial_value)\n",
    "\n",
    "# Several ops that can be used to change the value of a variable.\n",
    "# Note that they all become \"nodes\" in the computational graph.\n",
    "new_value = initial_value.assign([4,5])\n",
    "tf.print(\"Assigned value:\", new_value)\n",
    "add = initial_value.assign_add([1,1])\n",
    "tf.print(\"Add:\", add)"
   ]
  },
  {
   "cell_type": "markdown",
   "metadata": {
    "id": "DWZqSEN8ptyP"
   },
   "source": [
    "<p style='color:red'><strong>TODO:</strong></p>\n",
    "\n",
    "1. Create a $3\\times 3$ tensor variable (the initial values don't matter).\n",
    "2. Assign values from 1 to 9 to it and then add 1 to each assigned value in the $3\\times 3$ tensor.\n",
    "3. Print out (i) the initial values (ii) the new values after the assign operation."
   ]
  },
  {
   "cell_type": "markdown",
   "metadata": {
    "id": "EWF-hV1wSw02"
   },
   "source": [
    "<p style='color:red'><strong>SOLUTION (enter a new cell below):</strong></p>"
   ]
  },
  {
   "cell_type": "code",
   "execution_count": 11,
   "metadata": {
    "colab": {
     "base_uri": "https://localhost:8080/"
    },
    "id": "S5WfQPh6SbuA",
    "outputId": "80d9e825-3061-419b-fa93-8dce35024e20"
   },
   "outputs": [
    {
     "name": "stdout",
     "output_type": "stream",
     "text": [
      "Initial value:\n",
      " [[2 3 4]\n",
      " [5 6 7]\n",
      " [8 9 10]]\n",
      "New value:\n",
      " [[2 3 4]\n",
      " [5 6 7]\n",
      " [8 9 10]]\n"
     ]
    }
   ],
   "source": [
    "#1\n",
    "initial_value = tf.Variable(tf.reshape(tf.range(1,10,dtype=tf.float32),[3,3]))\n",
    "\n",
    "#2\n",
    "new_value = initial_value.assign(initial_value + 1)\n",
    "\n",
    "#3\n",
    "tf.print(\"Initial value:\\n\", initial_value)\n",
    "tf.print(\"New value:\\n\", new_value)\n"
   ]
  },
  {
   "cell_type": "markdown",
   "metadata": {
    "id": "qrPrL1vuptyX"
   },
   "source": [
    "#### 5. Impact of Data Types"
   ]
  },
  {
   "cell_type": "code",
   "execution_count": 12,
   "metadata": {
    "colab": {
     "base_uri": "https://localhost:8080/"
    },
    "id": "i0Hi6z_PptyX",
    "outputId": "c8d69887-e85b-4c05-f486-c74fb122de0c"
   },
   "outputs": [
    {
     "name": "stdout",
     "output_type": "stream",
     "text": [
      "Results with float32: \n",
      " [[ 1.4400002  4.84      10.240001 ]\n",
      " [17.639997  27.039999  38.44     ]] \n",
      "\n",
      "Results with float64: \n",
      " [[ 1.44  4.84 10.24]\n",
      " [17.64 27.04 38.44]] \n",
      "\n"
     ]
    }
   ],
   "source": [
    "# In TensorFlow, the float type of data includes float32 and float64.\n",
    "# In later assignments, you should ALWAYS consider float32 as the first choice for the sake of efficiency,\n",
    "# even though the precision is lower than for float64.\n",
    "\n",
    "# Here we compare the precision difference between these two types.\n",
    "a32 = tf.Variable([[1,2,3],[4,5,6]], dtype=tf.float32)\n",
    "b32 = (a32 + 0.2) ** 2\n",
    "a64 = tf.Variable([[1,2,3],[4,5,6]], dtype=tf.float64)\n",
    "b64 = (a64 + 0.2) ** 2\n",
    "\n",
    "tf.print('Results with float32: \\n {}'.format(b32), '\\n')\n",
    "tf.print('Results with float64: \\n {}'.format(b64), '\\n')"
   ]
  },
  {
   "cell_type": "markdown",
   "metadata": {
    "id": "Uqv2PgZWu_tR"
   },
   "source": [
    "#### 6. Distance Calculation"
   ]
  },
  {
   "cell_type": "markdown",
   "metadata": {
    "id": "690gKbVd5fZT"
   },
   "source": [
    "\n",
    "\n",
    "The most common way to measure the distance between two points in an $n$-dimensional space is the **Euclidean distance**.  \n",
    "Given two vectors $x, y \\in \\mathbb{R}^n$, it is defined as\n",
    "\n",
    "$$\n",
    "d_2(x,y) = \\|x - y\\|_2 = \\sqrt{\\sum_{i=1}^{n} (x_i - y_i)^2 }.\n",
    "$$\n",
    "\n",
    "---\n",
    "\n",
    "**Euclidean norm**\n",
    "\n",
    "In linear algebra, the corresponding norm is the **Euclidean norm** (the $L^2$ norm).  \n",
    "For a vector $x=(x_1,\\dots,x_n)$,\n",
    "\n",
    "$$\n",
    "\\|x\\|_2 = \\sqrt{x_1^2 + \\cdots + x_n^2},\n",
    "$$\n",
    "\n",
    "and formally the mapping is\n",
    "\n",
    "$$\n",
    "\\|\\cdot\\|_2 : \\mathbb{R}^n \\to [0,\\infty).\n",
    "$$\n",
    "\n",
    "---\n",
    "\n",
    "**General $L^p$ norm**\n",
    "\n",
    "More generally, the Euclidean norm is a special case of the family of **Lebesgue space norms** $L^p$.  \n",
    "For any real $p \\ge 1$, the $L^p$ norm of $x$ is\n",
    "\n",
    "$$\n",
    "\\|x\\|_p = \\left(|x_1|^p + \\cdots + |x_n|^p\\right)^{1/p}.\n",
    "$$\n",
    "\n",
    "- When $p=2$, we recover the Euclidean norm.  \n",
    "- When $p=1$, we obtain the **Manhattan (taxicab) norm**:\n",
    "\n",
    "$$\n",
    "\\|x\\|_1 = |x_1| + \\cdots + |x_n|.\n",
    "$$\n",
    "\n",
    "---\n",
    "\n",
    "**Distances from norms**\n",
    "\n",
    "Using this notation, the $L^p$ distance between two vectors is simply the norm of their difference:\n",
    "\n",
    "$$\n",
    "d_p(x,y) = \\|x - y\\|_p.\n",
    "$$\n",
    "\n",
    "In coordinates, if\n",
    "$$\n",
    "x = (x_1, x_2, \\dots, x_n), \\quad y = (y_1, y_2, \\dots, y_n),\n",
    "$$\n",
    "then\n",
    "\n",
    "$$\n",
    "d_p(x,y)\n",
    "= \\left( \\, |x_1 - y_1|^p + |x_2 - y_2|^p + \\cdots + |x_n - y_n|^p \\, \\right)^{1/p}.\n",
    "$$\n",
    "\n",
    "In particular, the Manhattan ($L^1$) distance is\n",
    "\n",
    "$$\n",
    "d_1(x,y) = \\sum_{i=1}^n |x_i - y_i|.\n",
    "$$\n"
   ]
  },
  {
   "cell_type": "markdown",
   "metadata": {
    "id": "cinES8Ibq8Om"
   },
   "source": [
    "---\n",
    "\n",
    "**NOTE**  \n",
    "> - The $p$-norms we introduced (e.g. Euclidean norm, Manhattan norm) are **vector norms** — they are defined only on vectors.  \n",
    ">\n",
    "> - In **NumPy**, the function [`np.linalg.norm`](https://numpy.org/doc/stable/reference/generated/numpy.linalg.norm.html) applied to a **matrix** will compute a **matrix norm**:  \n",
    ">   - By default (`ord=None`), it gives the **Frobenius norm**:  \n",
    ">     $$\n",
    ">     \\|A\\|_F = \\sqrt{\\sum_{i,j} a_{ij}^2}.\n",
    ">     $$  \n",
    ">   - With `ord=1`, it gives the **induced 1-norm**, i.e. the **maximum column sum**:  \n",
    ">     $$\n",
    ">     \\|A\\|_1 = \\max_j \\sum_i |a_{ij}|.\n",
    ">     $$  \n",
    ">   These are standard definitions for matrices, but note they are **different** from simply flattening the matrix into a vector.  \n",
    ">\n",
    "> - In **TensorFlow**, the function [`tf.norm`](https://www.tensorflow.org/api_docs/python/tf/norm) behaves differently:  \n",
    ">   - If `axis=None`, TensorFlow first **flattens the entire tensor into a 1D vector**, then computes the chosen vector norm.  \n",
    ">   - Example: `tf.norm(A, ord=1, axis=None)` will compute the sum of absolute values of **all entries** in `A`, not the induced matrix norm.  \n",
    ">\n",
    "> For the purposes of this assignment, **always interpret norms as vector norms on flattened tensors**.\n"
   ]
  },
  {
   "cell_type": "code",
   "execution_count": 13,
   "metadata": {
    "colab": {
     "base_uri": "https://localhost:8080/"
    },
    "id": "3wUaL-C3vC-1",
    "outputId": "6adebb8c-d55b-4f82-81cf-963cb51953e2"
   },
   "outputs": [
    {
     "name": "stdout",
     "output_type": "stream",
     "text": [
      "Euclidean distance: 3.1622777\n",
      "Manhattan distance: 6\n"
     ]
    }
   ],
   "source": [
    "# Distance Calculation\n",
    "#\n",
    "# Create a tensor among the following types : float32, float64, complex64, complex128\n",
    "# Mentioned link details the meaning of each variable: https://www.tensorflow.org/versions/r2.4/api_docs/python/tf/norm\n",
    "\n",
    "# Create two tensors of shape 2x3.\n",
    "tensor_a = tf.constant([[1,2,3], [3,2,1]], dtype=tf.float32, name='template_a')\n",
    "tensor_b = tf.constant([[1,1,1], [1,1,1]], dtype=tf.float32, name='template_b')\n",
    "\n",
    "# 1. Calculating Euclidean distance or the L2 norm.\n",
    "\n",
    "eucledian_distance = tf.norm(tensor_a - tensor_b, ord='euclidean', axis=None, keepdims=None)\n",
    "tf.print(\"Euclidean distance:\", eucledian_distance)\n",
    "\n",
    "# 2. Calculating the Manhattan distance or the L1 norm\n",
    "manhattan_distance = tf.norm(tensor_a - tensor_b, ord=1, axis=None, keepdims=None)\n",
    "tf.print(\"Manhattan distance:\", manhattan_distance)"
   ]
  },
  {
   "cell_type": "markdown",
   "metadata": {
    "id": "2PQdsHs-vMkO"
   },
   "source": [
    "<p style='color:red'><strong>TODO:</strong></p>\n",
    "\n",
    "Create two functions using `numpy` which will return the Euclidean distance and Manhattan distance between the above tensors. Print their outputs."
   ]
  },
  {
   "cell_type": "markdown",
   "metadata": {
    "id": "eAn055uiSw1A"
   },
   "source": [
    "<p style='color:red'><strong>SOLUTION (enter a new cell below):</strong></p>"
   ]
  },
  {
   "cell_type": "code",
   "execution_count": 14,
   "metadata": {
    "colab": {
     "base_uri": "https://localhost:8080/"
    },
    "id": "g5nG4OVOVGlG",
    "outputId": "70fa6a32-1ab5-468d-edc7-c2445f21db9f"
   },
   "outputs": [
    {
     "name": "stdout",
     "output_type": "stream",
     "text": [
      "Euclidean distance: 3.1622776601683795\n",
      "Manhattan distance: 6.0\n"
     ]
    }
   ],
   "source": [
    "import numpy as np\n",
    "\n",
    "a = np.array([[1,2,3],[3,2,1]])\n",
    "b = np.array([[1,1,1],[1,1,1]])\n",
    "\n",
    "def euclidean_distance(a,b):\n",
    "    diff = (a-b).ravel()\n",
    "    return np.linalg.norm(diff, ord=None)\n",
    "\n",
    "def manhattan_distance(a,b):\n",
    "    diff = (a-b).ravel()\n",
    "    return np.linalg.norm(diff, ord=1)\n",
    "\n",
    "print(\"Euclidean distance:\", euclidean_distance(a,b))\n",
    "print(\"Manhattan distance:\", manhattan_distance(a,b))"
   ]
  },
  {
   "cell_type": "markdown",
   "metadata": {
    "id": "sTiqq8_5wCUh"
   },
   "source": [
    "We have introduced only the basic TensorFlow operations and concepts. We recommend that you visit the TensorFlow tutorial link (https://www.tensorflow.org/tutorials) for many more. You will need them to be able to efficiently build and execute deep learning models."
   ]
  },
  {
   "cell_type": "markdown",
   "metadata": {
    "id": "HC0SVT8owOVP"
   },
   "source": [
    "## Part 4 - TensorFlow Demos\n",
    "Part 4 of this assignment consists of a demo. All you need to do is to run the demos and observe the results. This is meant to give you an idea of how TensorFlow is used.\n",
    "\n",
    "Please run the code and look at the outputs. We do not ask you to fully understand the model at this point. However, it would be a good practice if you searched [www.tensorflow.org](https://www.tensorflow.org) to examine the functions which are used in the code. They will be really helpful when you start programming by yourself."
   ]
  },
  {
   "cell_type": "markdown",
   "metadata": {
    "id": "UtBIkiexwTPz"
   },
   "source": [
    "### Demo 1: Multiclass Logistic Regression\n",
    "#### Loading and preparing the MNIST dataset"
   ]
  },
  {
   "cell_type": "code",
   "execution_count": 15,
   "metadata": {
    "colab": {
     "base_uri": "https://localhost:8080/"
    },
    "id": "l215pkxyeLJo",
    "outputId": "0831c9af-5da5-4713-822f-d5c752e916b2"
   },
   "outputs": [
    {
     "name": "stdout",
     "output_type": "stream",
     "text": [
      "Cell executed. Move to the next cell.\n"
     ]
    }
   ],
   "source": [
    "# Multi-class Logistic Regression\n",
    "\n",
    "from tensorflow.keras.datasets import mnist\n",
    "\n",
    "# Load dataset\n",
    "(x_train, y_train), (x_test, y_test) = mnist.load_data()\n",
    "\n",
    "# Convert to float32.\n",
    "x_train, x_test = np.array(x_train, np.float32), np.array(x_test, np.float32)\n",
    "\n",
    "# Flatten images to 1-D vector of 784 features (28*28, which is the size of the images in MNIST).\n",
    "num_features = 28 * 28\n",
    "x_train, x_test = x_train.reshape([-1, num_features]), x_test.reshape([-1, num_features])\n",
    "\n",
    "# Normalize values into [0, 1].\n",
    "x_train, x_test = x_train / 255., x_test / 255.\n",
    "\n",
    "print(\"Cell executed. Move to the next cell.\")"
   ]
  },
  {
   "cell_type": "markdown",
   "metadata": {
    "id": "rqE8eRYPSw1D"
   },
   "source": [
    "#### Setting up hyperparameters and dataset parameters"
   ]
  },
  {
   "cell_type": "code",
   "execution_count": 16,
   "metadata": {
    "colab": {
     "base_uri": "https://localhost:8080/"
    },
    "id": "DGiHxRa-Sw1E",
    "outputId": "30fc9191-b5f1-4d70-8d49-5352b5cb5a5b"
   },
   "outputs": [
    {
     "name": "stdout",
     "output_type": "stream",
     "text": [
      "Cell executed. Move to the next cell.\n"
     ]
    }
   ],
   "source": [
    "# MNIST dataset parameters\n",
    "num_classes = 10 # 0 to 9 digits\n",
    "num_features = 784 # 28*28\n",
    "\n",
    "# Training parameters\n",
    "learning_rate = 0.005\n",
    "training_steps = 500\n",
    "batch_size = 256\n",
    "display_step = 100\n",
    "\n",
    "print(\"Cell executed. Move to the next cell.\")"
   ]
  },
  {
   "cell_type": "markdown",
   "metadata": {
    "id": "TdS7dXufSw1F"
   },
   "source": [
    "#### Shuffling and Batching the data"
   ]
  },
  {
   "cell_type": "code",
   "execution_count": 17,
   "metadata": {
    "colab": {
     "base_uri": "https://localhost:8080/"
    },
    "id": "bFYK4LijSw1G",
    "outputId": "34c39b89-58c3-46f5-8aad-2e157eeb0f27"
   },
   "outputs": [
    {
     "name": "stdout",
     "output_type": "stream",
     "text": [
      "Cell executed. Move to the next cell.\n"
     ]
    }
   ],
   "source": [
    "# Using tf.data API to shuffle and batch data.\n",
    "train_data = tf.data.Dataset.from_tensor_slices((x_train,y_train))\n",
    "\n",
    "train_data = train_data.repeat().shuffle(5000).batch(batch_size).prefetch(1)\n",
    "print(\"Cell executed. Move to the next cell.\")"
   ]
  },
  {
   "cell_type": "markdown",
   "metadata": {
    "id": "nlczIrIGSw1I"
   },
   "source": [
    "#### Initializing weights and biases"
   ]
  },
  {
   "cell_type": "code",
   "execution_count": 18,
   "metadata": {
    "colab": {
     "base_uri": "https://localhost:8080/"
    },
    "id": "CRj1SLvzSw1I",
    "outputId": "e6e7b1c9-743f-4014-983d-75b2920a78d1"
   },
   "outputs": [
    {
     "name": "stdout",
     "output_type": "stream",
     "text": [
      "Cell executed. Move to the next cell.\n"
     ]
    }
   ],
   "source": [
    "# Weight of shape [784, 10], the 28*28 image features, and a total number of classes.\n",
    "w = tf.Variable(tf.ones([num_features, num_classes]), name=\"weight\")\n",
    "\n",
    "# Bias of shape [10], the total number of classes.\n",
    "b = tf.Variable(tf.zeros([num_classes]), name=\"bias\")\n",
    "\n",
    "print(\"Cell executed. Move to the next cell.\")"
   ]
  },
  {
   "cell_type": "markdown",
   "metadata": {
    "id": "bsi9KCsYSw1K"
   },
   "source": [
    "#### Defining Logistic Regression and Cost function"
   ]
  },
  {
   "cell_type": "code",
   "execution_count": 19,
   "metadata": {
    "colab": {
     "base_uri": "https://localhost:8080/"
    },
    "id": "BaOKjAZoSw1K",
    "outputId": "4a721c0d-0819-49ea-a19e-91b26cf5b7c6"
   },
   "outputs": [
    {
     "name": "stdout",
     "output_type": "stream",
     "text": [
      "Cell executed. Move to the next cell.\n"
     ]
    }
   ],
   "source": [
    "# Logistic regression (x@w + b).\n",
    "def logistic_regression(x):\n",
    "    # Apply softmax to normalize the logits to a probability distribution.\n",
    "    return tf.nn.softmax(tf.matmul(x, w) + b)\n",
    "\n",
    "# Cross-Entropy loss function.\n",
    "def cross_entropy(y_pred, y_true):\n",
    "    # Encode label to an one hot vector.\n",
    "    y_true = tf.one_hot(y_true, depth=num_classes)\n",
    "\n",
    "    # Clip prediction values to avoid log(0) error.\n",
    "    y_pred = tf.clip_by_value(y_pred, 1e-9, 1.)\n",
    "\n",
    "    # Compute cross-entropy.\n",
    "    return tf.reduce_mean(-tf.reduce_sum(y_true * tf.math.log(y_pred), axis=1))\n",
    "\n",
    "print(\"Cell executed. Move to the next cell.\")"
   ]
  },
  {
   "cell_type": "markdown",
   "metadata": {
    "id": "Wa53EQ-OSw1L"
   },
   "source": [
    "#### Defining Optimizers and Accuracy Metrics"
   ]
  },
  {
   "cell_type": "code",
   "execution_count": 20,
   "metadata": {
    "colab": {
     "base_uri": "https://localhost:8080/"
    },
    "id": "tcgF_CtpSw1M",
    "outputId": "cc06c882-a994-479a-f692-37177cd3143b"
   },
   "outputs": [
    {
     "name": "stdout",
     "output_type": "stream",
     "text": [
      "Cell executed. Move to the next cell.\n"
     ]
    }
   ],
   "source": [
    "# Accuracy metric.\n",
    "def accuracy(y_pred, y_true):\n",
    "    # Predicted class is the index of the highest score in prediction vector (i.e. argmax).\n",
    "    correct_prediction = tf.equal(tf.argmax(y_pred, 1), tf.cast(y_true, tf.int64))\n",
    "\n",
    "    return tf.reduce_mean(tf.cast(correct_prediction, tf.float32))\n",
    "\n",
    "# Stochastic gradient descent optimizer.\n",
    "optimizer = tf.optimizers.SGD(learning_rate)\n",
    "\n",
    "print(\"Cell executed. Move to the next cell.\")"
   ]
  },
  {
   "cell_type": "markdown",
   "metadata": {
    "id": "ph2IWd6YSw1N"
   },
   "source": [
    "#### Optimization process and Updating Weights and Biases"
   ]
  },
  {
   "cell_type": "code",
   "execution_count": 21,
   "metadata": {
    "colab": {
     "base_uri": "https://localhost:8080/"
    },
    "id": "I-Zs0aACSw1O",
    "outputId": "32bbbe8f-ed80-4bab-827c-96bccaaf135c"
   },
   "outputs": [
    {
     "name": "stdout",
     "output_type": "stream",
     "text": [
      "Cell executed. Move to the next cell.\n"
     ]
    }
   ],
   "source": [
    "# Optimization process.\n",
    "\n",
    "def run_optimization(x, y):\n",
    "    # Wrap computation inside a GradientTape for automatic differentiation.\n",
    "    with tf.GradientTape() as g:\n",
    "        pred = logistic_regression(x)\n",
    "        loss = cross_entropy(pred, y)\n",
    "\n",
    "    # Compute gradients.\n",
    "    gradients = g.gradient(loss, [w, b])\n",
    "\n",
    "    # Update W and b following gradients.\n",
    "    optimizer.apply_gradients(zip(gradients, [w, b]))\n",
    "\n",
    "# printf\n",
    "print(\"Cell executed. Move to the next cell.\")"
   ]
  },
  {
   "cell_type": "markdown",
   "metadata": {
    "id": "XAlXhsl0Sw1P"
   },
   "source": [
    "#### Training loop"
   ]
  },
  {
   "cell_type": "code",
   "execution_count": 22,
   "metadata": {
    "colab": {
     "base_uri": "https://localhost:8080/"
    },
    "id": "bPtoLWX4Sw1P",
    "outputId": "5f8b84fc-927d-40e1-c1ab-dcf35f17b06e"
   },
   "outputs": [
    {
     "name": "stdout",
     "output_type": "stream",
     "text": [
      "This cell should run and show output for 500 steps. Running ...\n",
      "step: 100, loss: 1.857013, accuracy: 0.746094\n",
      "step: 200, loss: 1.499071, accuracy: 0.792969\n",
      "step: 300, loss: 1.396927, accuracy: 0.761719\n",
      "step: 400, loss: 1.210465, accuracy: 0.792969\n",
      "step: 500, loss: 1.013940, accuracy: 0.855469\n",
      "Cell executed. Move to the next cell.\n"
     ]
    }
   ],
   "source": [
    "# Run training for the given number of steps.\n",
    "print(\"This cell should run and show output for 500 steps. Running ...\")\n",
    "\n",
    "for step, (batch_x, batch_y) in enumerate(train_data.take(training_steps), 1):\n",
    "    # Run the optimization to update W and b values.\n",
    "    run_optimization(batch_x, batch_y)\n",
    "    if step % display_step == 0:\n",
    "        pred = logistic_regression(batch_x)\n",
    "        loss = cross_entropy(pred, batch_y)\n",
    "        acc = accuracy(pred, batch_y)\n",
    "        print(\"step: %i, loss: %f, accuracy: %f\" % (step, loss, acc))\n",
    "\n",
    "print(\"Cell executed. Move to the next cell.\")"
   ]
  },
  {
   "cell_type": "markdown",
   "metadata": {
    "id": "AJ3nnz3ySw1R"
   },
   "source": [
    "#### Testing model accuracy using the testing data"
   ]
  },
  {
   "cell_type": "code",
   "execution_count": 23,
   "metadata": {
    "colab": {
     "base_uri": "https://localhost:8080/"
    },
    "id": "HfNo8-FaSw1R",
    "outputId": "f0f910fb-cebb-4350-8df2-8ce7bc2d4a93"
   },
   "outputs": [
    {
     "name": "stdout",
     "output_type": "stream",
     "text": [
      "Test Accuracy: 0.824800\n"
     ]
    }
   ],
   "source": [
    "# Test model on validation set.\n",
    "pred = logistic_regression(x_test)\n",
    "print(\"Test Accuracy: %f\" % accuracy(pred, y_test))"
   ]
  },
  {
   "cell_type": "markdown",
   "metadata": {
    "id": "yw34fVUVweHt"
   },
   "source": [
    "## Part 5 - Organizing the Code for Development of Deep Learning Models\n",
    "\n",
    "This assignment was distributed as a collection of directories and files (either through the Github or a collection of files in a `*.zip` package).\n",
    "\n",
    "The organization of directories and files is described in the corresponding README.md file, and illustrated below as well:\n",
    "\n",
    "<p style='color:red'><strong>TODO:</strong></p> Study the organization of directories and files for this assignment\n",
    "\n",
    "In particular examine the way in which Jupyter notebook files and utility Python files are distributed across directories. Students will be required to follow this (or very similar) directory structure for their assignments and projects. For every project/assignment, a similar tree structure needs to be generated and appended to the README.md file.\n",
    "\n",
    "A typical organization of the top directory can be seen at the end of the `README.md` file."
   ]
  },
  {
   "cell_type": "markdown",
   "metadata": {
    "id": "ZHZ-42frSw1T"
   },
   "source": [
    "### Steps to create and visualize the tree-like directory structure:\n",
    "\n",
    "<p style='color:red'><strong>For Linux:</strong></p>\n",
    "\n",
    "1. Go to the directory for which you want to create and visualize the tree structure for.\n",
    "2. Type `tree ./ >> README.md` in the terminal (or `!tree ./ >> README.md` a Jupyter Notebook cell) - this will append the tree to the `README.md` file in the same directory.\n",
    "3. After running the above command, go to the `README.md` file and **manually** enclose the appended directory structure text in 3 inverted quote \"```\" (you may refer to the provided example in `README.md`).\n",
    "\n",
    "<p style='color:red'><strong>For Windows:</strong></p>\n",
    "\n",
    "1. Replace the above command with `tree ./ /f /a >> README.md`.\n",
    "2. After running the above command, go to the `README.md` and remove the lines that look like: `Folder PATH listing for volume DATA Volume serial number is 0A8A-1CBE D:\\CA_4040\\MASTER_BRANCH\\e4040-2024fall-assign0`.\n",
    "\n",
    "**Note:** The two chevrons `>>` are used to append the output of a command to the bottom of a file (instead of one chevron `>` which overwrites the whole file)."
   ]
  },
  {
   "cell_type": "markdown",
   "metadata": {
    "id": "5Klm1x5fSw1T"
   },
   "source": [
    "## Submission of the Assignment\n",
    "\n",
    "The method of the submission and the naming are described in the `README.md` file, distributed in Github. For formal submission, additional instructions will be provided a few days before the assignment is due."
   ]
  },
  {
   "cell_type": "markdown",
   "metadata": {
    "id": "N6y2_8vww0oN"
   },
   "source": [
    "## End of the assignment"
   ]
  },
  {
   "cell_type": "code",
   "execution_count": 27,
   "metadata": {
    "colab": {
     "base_uri": "https://localhost:8080/"
    },
    "id": "QarFKHsgq8Os",
    "outputId": "7ff905a9-fa09-42ea-9608-d83e70e4ca0a"
   },
   "outputs": [
    {
     "name": "stdout",
     "output_type": "stream",
     "text": [
      "Reading package lists... Done\n",
      "Building dependency tree       \n",
      "Reading state information... Done\n",
      "tree is already the newest version (1.7.0-5).\n",
      "The following package was automatically installed and is no longer required:\n",
      "  libnuma1\n",
      "Use 'sudo apt autoremove' to remove it.\n",
      "0 upgraded, 0 newly installed, 0 to remove and 73 not upgraded.\n"
     ]
    }
   ],
   "source": [
    "!sudo apt-get install tree\n",
    "!tree ./ >> README.md"
   ]
  }
 ],
 "metadata": {
  "colab": {
   "collapsed_sections": [
    "UtBIkiexwTPz"
   ],
   "provenance": []
  },
  "kernelspec": {
   "display_name": "Python 3",
   "language": "python",
   "name": "python3"
  },
  "language_info": {
   "codemirror_mode": {
    "name": "ipython",
    "version": 3
   },
   "file_extension": ".py",
   "mimetype": "text/x-python",
   "name": "python",
   "nbconvert_exporter": "python",
   "pygments_lexer": "ipython3",
   "version": "3.6.9"
  },
  "vscode": {
   "interpreter": {
    "hash": "b0fa6594d8f4cbf19f97940f81e996739fb7646882a419484c72d19e05852a7e"
   }
  }
 },
 "nbformat": 4,
 "nbformat_minor": 1
}
